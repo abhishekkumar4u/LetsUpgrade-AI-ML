{
 "cells": [
  {
   "cell_type": "markdown",
   "metadata": {},
   "source": [
    "## COMPLEX NUMBERS\n",
    "\n",
    "A Complex Number is a number whih can be expressed in the form of '__a + bi__' \n",
    "     \n",
    "where as,'a' is a  __Real Part__'\n",
    "\n",
    "'b' is an '__Imaginary Part__'\n",
    "\n",
    "'__i^2 = -1__'\n",
    "               \n",
    "     \n",
    "We can perform the __'Addition'__ operation to add two Complex Numbers.\n",
    "\n",
    "We can perform the '__Sbutraction__' operation to subtract two Complex Numbers.\n",
    "\n",
    "We can perform the '__Multiplication__' operation to multiply two Complex Numbers.\n",
    "\n",
    "We can't perform '__Floor Division__' operation of the Complex Numbers.\n",
    "\n",
    "We can't perform '__Modulus__' Operation in the Complex Numbers.\n",
    "\n",
    "We can perform the '__Division__' operations of the two Complex Numbers"
   ]
  },
  {
   "cell_type": "code",
   "execution_count": 1,
   "metadata": {},
   "outputs": [
    {
     "name": "stdout",
     "output_type": "stream",
     "text": [
      "Addition =  (67+94j)\n",
      "Subtraction =  (17+30j)\n",
      "Multiplication = (-934+2894j)\n",
      "Division = (1.8399029714978774+0.1249241964827168j)\n"
     ]
    }
   ],
   "source": [
    "num1 = 42 + 62j\n",
    "num2 = 25 + 32j\n",
    "\n",
    "add = num1 + num2\n",
    "print(\"Addition = \", add)\n",
    "\n",
    "sub = num1 - num2\n",
    "print(\"Subtraction = \",sub)\n",
    "\n",
    "mul = num1 * num2\n",
    "print(\"Multiplication =\",mul)\n",
    "\n",
    "div = num1 / num2\n",
    "print(\"Division =\",div)\n"
   ]
  },
  {
   "cell_type": "markdown",
   "metadata": {},
   "source": [
    "## range() Function:-\n",
    "\n",
    "It creates a sequence of numbers starting from 0 by default and increment by 1 and it stops before a specified number is given were to end.\n",
    "\n",
    "## Syntax\n",
    "\n",
    "'__range(start, stop, step)__'\n",
    "\n",
    "Start:- A integer number specifies from which position to start.\n",
    "\n",
    "Stop:- A integer number specifies at which position it has to stop.\n",
    "\n",
    "Step:- A integer number specifies how many steps we have to move."
   ]
  },
  {
   "cell_type": "code",
   "execution_count": 4,
   "metadata": {},
   "outputs": [
    {
     "name": "stdout",
     "output_type": "stream",
     "text": [
      "0 1 2 3 4 "
     ]
    }
   ],
   "source": [
    "a = range(5)\n",
    "for i in a:\n",
    "    print(i, end = \" \")"
   ]
  },
  {
   "cell_type": "code",
   "execution_count": 3,
   "metadata": {},
   "outputs": [
    {
     "name": "stdout",
     "output_type": "stream",
     "text": [
      "0 2 4 "
     ]
    }
   ],
   "source": [
    "num = range(0,5,2)\n",
    "for i in num:\n",
    "    print(i, end =\" \")"
   ]
  },
  {
   "cell_type": "code",
   "execution_count": 8,
   "metadata": {},
   "outputs": [
    {
     "name": "stdout",
     "output_type": "stream",
     "text": [
      "0 1 2 3 4 "
     ]
    }
   ],
   "source": [
    "num_1 = range(0,5)\n",
    "for i in num_1:\n",
    "    print(i, end = \" \")"
   ]
  },
  {
   "cell_type": "markdown",
   "metadata": {},
   "source": [
    "__Consider two numbers. Perform their subtraction and if the result of subtraction is greater than\n",
    "25, print their multiplication result else print their division result.__\n"
   ]
  },
  {
   "cell_type": "code",
   "execution_count": 9,
   "metadata": {},
   "outputs": [
    {
     "name": "stdout",
     "output_type": "stream",
     "text": [
      "Print Multiplication result = 1000\n"
     ]
    }
   ],
   "source": [
    "num_1 = 50\n",
    "num_2 = 20\n",
    "num_3 = num_1 - num_2\n",
    "if(num_3 > 25):\n",
    "    print(\"Print Multiplication result =\", num_1 * num_2)\n",
    "else:\n",
    "    print(\"Division Result = \", num_1//num_2)"
   ]
  },
  {
   "cell_type": "markdown",
   "metadata": {},
   "source": [
    "__Consider a list of 10 elements of integer values. If the number in the list is divisible by 2, print the\n",
    "result as \"square of that number minus 2\".__\n"
   ]
  },
  {
   "cell_type": "code",
   "execution_count": 27,
   "metadata": {},
   "outputs": [
    {
     "name": "stdout",
     "output_type": "stream",
     "text": [
      "2 14 34 62 98 "
     ]
    }
   ],
   "source": [
    "lst = [1,2,3,4,5,6,7,8,9,10]\n",
    "for i in lst:\n",
    "    if(i % 2 ==0):\n",
    "        z = (i*i)-2\n",
    "        print(z , end = \" \")"
   ]
  },
  {
   "cell_type": "markdown",
   "metadata": {},
   "source": [
    "__Consider a list of 10 elements. Print all the elements in the list which are greater than 7 when that\n",
    "number is divided 2.__"
   ]
  },
  {
   "cell_type": "code",
   "execution_count": 28,
   "metadata": {},
   "outputs": [
    {
     "name": "stdout",
     "output_type": "stream",
     "text": [
      "8\n",
      "10\n"
     ]
    }
   ],
   "source": [
    "lst_1 = [1,2,3,4,5,6,7,8,9,10]\n",
    "for i in lst_1:\n",
    "    if(i > 7  and i % 2 == 0):\n",
    "        print(i)"
   ]
  },
  {
   "cell_type": "code",
   "execution_count": null,
   "metadata": {},
   "outputs": [],
   "source": []
  }
 ],
 "metadata": {
  "kernelspec": {
   "display_name": "Python 3",
   "language": "python",
   "name": "python3"
  },
  "language_info": {
   "codemirror_mode": {
    "name": "ipython",
    "version": 3
   },
   "file_extension": ".py",
   "mimetype": "text/x-python",
   "name": "python",
   "nbconvert_exporter": "python",
   "pygments_lexer": "ipython3",
   "version": "3.7.4"
  }
 },
 "nbformat": 4,
 "nbformat_minor": 2
}
