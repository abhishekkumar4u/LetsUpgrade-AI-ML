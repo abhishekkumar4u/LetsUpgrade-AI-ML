{
 "cells": [
  {
   "cell_type": "markdown",
   "metadata": {},
   "source": [
    "# Program to Subtract two complex number in Python"
   ]
  },
  {
   "cell_type": "code",
   "execution_count": 1,
   "metadata": {},
   "outputs": [
    {
     "name": "stdout",
     "output_type": "stream",
     "text": [
      "Subtract:- (25+40j)\n"
     ]
    }
   ],
   "source": [
    "num1 = 56+91j\n",
    "num2 = 31+51j\n",
    "\n",
    "num3 = num1 - num2\n",
    "print(\"Subtract:-\",num3)"
   ]
  },
  {
   "cell_type": "markdown",
   "metadata": {},
   "source": [
    "# Program to find the fourth root of a number"
   ]
  },
  {
   "cell_type": "code",
   "execution_count": 30,
   "metadata": {},
   "outputs": [
    {
     "name": "stdout",
     "output_type": "stream",
     "text": [
      "Eneter rhe number= 16\n",
      "2.0\n"
     ]
    }
   ],
   "source": [
    "n = int(input(\"Eneter rhe number= \"))\n",
    "root = 4\n",
    "\n",
    "ans = n **(1/root)\n",
    "print(ans)"
   ]
  },
  {
   "cell_type": "markdown",
   "metadata": {},
   "source": [
    "# Program to swap two number in python with the help of temporary variable"
   ]
  },
  {
   "cell_type": "code",
   "execution_count": 2,
   "metadata": {},
   "outputs": [
    {
     "name": "stdout",
     "output_type": "stream",
     "text": [
      "Before Swapping:- num_1= 10 num_2= 20\n",
      "After Swapping:- num_1= 20 num_2= 10\n"
     ]
    }
   ],
   "source": [
    "num_1 = 10\n",
    "num_2 = 20\n",
    "\n",
    "print(\"Before Swapping:-\",\"num_1=\",num_1,\"num_2=\",num_2)\n",
    "\n",
    "temp = num_1\n",
    "num_1 = num_2\n",
    "num_2 = temp\n",
    "\n",
    "\n",
    "print(\"After Swapping:-\",\"num_1=\",num_1,\"num_2=\",num_2)"
   ]
  },
  {
   "cell_type": "markdown",
   "metadata": {},
   "source": [
    "# Program to swap two number in Python without using a temporary variable"
   ]
  },
  {
   "cell_type": "code",
   "execution_count": 3,
   "metadata": {},
   "outputs": [
    {
     "name": "stdout",
     "output_type": "stream",
     "text": [
      "Before Swapping:- var_1 = 10 var_2 = 20\n",
      "After Swapping:- var_1 = 20 var_2 = 10\n"
     ]
    }
   ],
   "source": [
    "#Logic 1\n",
    "\n",
    "var_1 = 10\n",
    "var_2 = 20\n",
    "\n",
    "print(\"Before Swapping:-\",\"var_1 =\",var_1,\"var_2 =\",var_2)\n",
    "\n",
    "var_1 = var_1 + var_2\n",
    "var_2 = var_1 - var_2\n",
    "var_1 = var_1 - var_2\n",
    "\n",
    "print(\"After Swapping:-\",\"var_1 =\",var_1,\"var_2 =\",var_2)"
   ]
  },
  {
   "cell_type": "code",
   "execution_count": 4,
   "metadata": {},
   "outputs": [
    {
     "name": "stdout",
     "output_type": "stream",
     "text": [
      "Before Swapping:- var_1 = 10 var_2 = 20\n",
      "After Swapping:- var_1 = 20 var_2 = 10\n"
     ]
    }
   ],
   "source": [
    "#Logic 2\n",
    "\n",
    "var_1 = 10\n",
    "var_2 = 20\n",
    "\n",
    "print(\"Before Swapping:-\",\"var_1 =\",var_1,\"var_2 =\",var_2)\n",
    "\n",
    "var_1 = var_1 * var_2\n",
    "var_2 = var_1 //var_2\n",
    "var_1 = var_1 //var_2\n",
    "\n",
    "print(\"After Swapping:-\",\"var_1 =\",var_1,\"var_2 =\",var_2)"
   ]
  },
  {
   "cell_type": "code",
   "execution_count": 5,
   "metadata": {},
   "outputs": [
    {
     "name": "stdout",
     "output_type": "stream",
     "text": [
      "Before Swapping:- var_1 = 30 var_2 = 40\n",
      "After Swapping:- var_1 = 40 var_2 = 30\n"
     ]
    }
   ],
   "source": [
    "#Logic 3\n",
    "\n",
    "var_1 = 30\n",
    "var_2 = 40\n",
    "\n",
    "print(\"Before Swapping:-\",\"var_1 =\",var_1,\"var_2 =\",var_2)\n",
    "\n",
    "var_1 = var_1 ^ var_2\n",
    "var_2 = var_1 ^var_2\n",
    "var_1 = var_1 ^var_2\n",
    "\n",
    "print(\"After Swapping:-\",\"var_1 =\",var_1,\"var_2 =\",var_2)"
   ]
  },
  {
   "cell_type": "markdown",
   "metadata": {},
   "source": [
    "# Program to convert fahrenheit to kelvin and celsius both."
   ]
  },
  {
   "cell_type": "code",
   "execution_count": 14,
   "metadata": {},
   "outputs": [
    {
     "name": "stdout",
     "output_type": "stream",
     "text": [
      "Enter the temperature in fahrenheit=100\n",
      "Fahrenheit to kelvin= 311.27777777777777\n",
      "Fahrenheit to celsius=  37.77777777777778\n"
     ]
    }
   ],
   "source": [
    "value = int(input(\"Enter the temperature in fahrenheit=\"))\n",
    "            \n",
    "k = 273.5 + ((value - 32.0) * (5.0/9.0))\n",
    "\n",
    "print(\"Fahrenheit to kelvin=\",k)   #fahrenheti to kelvin\n",
    "\n",
    "celsius = (value - 32) * 5/9\n",
    "print(\"Fahrenheit to celsius= \", celsius)  #faherenheit to celsius\n"
   ]
  },
  {
   "cell_type": "markdown",
   "metadata": {},
   "source": [
    "# Program to demonstrate all the available data types in Python"
   ]
  },
  {
   "cell_type": "code",
   "execution_count": 31,
   "metadata": {},
   "outputs": [
    {
     "name": "stdout",
     "output_type": "stream",
     "text": [
      "<class 'int'>\n",
      "<class 'float'>\n",
      "<class 'str'>\n",
      "<class 'complex'>\n"
     ]
    }
   ],
   "source": [
    "num_value = 10\n",
    "num_value_2 = 27.36798\n",
    "num_value_3 = \"Abhishe Kumar\"\n",
    "num_value_4 = 5 + 6j\n",
    "\n",
    "print(type(num_value))\n",
    "print(type(num_value_2))\n",
    "print(type(num_value_3))\n",
    "print(type(num_value_4))"
   ]
  },
  {
   "cell_type": "code",
   "execution_count": null,
   "metadata": {},
   "outputs": [],
   "source": []
  }
 ],
 "metadata": {
  "kernelspec": {
   "display_name": "Python 3",
   "language": "python",
   "name": "python3"
  },
  "language_info": {
   "codemirror_mode": {
    "name": "ipython",
    "version": 3
   },
   "file_extension": ".py",
   "mimetype": "text/x-python",
   "name": "python",
   "nbconvert_exporter": "python",
   "pygments_lexer": "ipython3",
   "version": "3.7.4"
  }
 },
 "nbformat": 4,
 "nbformat_minor": 2
}
