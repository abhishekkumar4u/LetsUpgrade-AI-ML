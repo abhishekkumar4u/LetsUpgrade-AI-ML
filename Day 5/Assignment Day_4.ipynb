{
 "cells": [
  {
   "cell_type": "markdown",
   "metadata": {},
   "source": [
    "# Assignment 3"
   ]
  },
  {
   "cell_type": "markdown",
   "metadata": {},
   "source": [
    "__Write a Python program to implement 15 functions of string.__\n"
   ]
  },
  {
   "cell_type": "markdown",
   "metadata": {},
   "source": [
    "__.format():-__ it’s used to create a formatted string from the template string and the supplied values."
   ]
  },
  {
   "cell_type": "code",
   "execution_count": 16,
   "metadata": {},
   "outputs": [
    {
     "name": "stdout",
     "output_type": "stream",
     "text": [
      "My name is Abhishe Kumar\n",
      "I have interest in AI and ML\n",
      "I have interest in MLand AI\n",
      "I am learning Machine learning and Deep Learning\n"
     ]
    }
   ],
   "source": [
    "print(\"My name is {0}\".format(\"Abhishe Kumar\"))\n",
    "print(\"I have interest in {0} and {1}\".format(\"AI\",\"ML\"))\n",
    "print(\"I have interest in {1}and {0}\".format(\"AI\",\"ML\"))\n",
    "\n",
    "t = {\"Machine learning\", \"Deep Learning\"}\n",
    "print(\"I am learning {0} and {1}\".format(*t))"
   ]
  },
  {
   "cell_type": "markdown",
   "metadata": {},
   "source": [
    "__Split():-Function is used to split a string into the list of strings based on a delimiter.__"
   ]
  },
  {
   "cell_type": "code",
   "execution_count": 37,
   "metadata": {},
   "outputs": [
    {
     "name": "stdout",
     "output_type": "stream",
     "text": [
      "['My', 'Name', 'is', 'Abhishe', 'Kumar']\n",
      "['My', 'Name', 'is', 'Abhishe', 'Kumar']\n"
     ]
    }
   ],
   "source": [
    "str_1 = \"My Name is Abhishe Kumar\"\n",
    "my_str = str_1.split(sep = \" \")\n",
    "print(my_str)\n",
    "\n",
    "my_str_1 = str_1.split()  #Without using sep\n",
    "print(my_str_1)"
   ]
  },
  {
   "cell_type": "markdown",
   "metadata": {},
   "source": [
    "__casefold():- Converts srting into lower case__"
   ]
  },
  {
   "cell_type": "code",
   "execution_count": 40,
   "metadata": {},
   "outputs": [
    {
     "name": "stdout",
     "output_type": "stream",
     "text": [
      "my name is abhishek kumar\n"
     ]
    }
   ],
   "source": [
    "srt = \"MY NAME IS ABHISHEK KUMAR\"\n",
    "my_srt= srt.casefold()\n",
    "print(my_srt)"
   ]
  },
  {
   "cell_type": "markdown",
   "metadata": {},
   "source": [
    "__isupper():- Returns TRUE if all the character into upper case else return false__"
   ]
  },
  {
   "cell_type": "code",
   "execution_count": 44,
   "metadata": {},
   "outputs": [
    {
     "name": "stdout",
     "output_type": "stream",
     "text": [
      "True\n"
     ]
    }
   ],
   "source": [
    "srt_1 = \"I AM LEARNING DS & ML\"\n",
    "my_srt_1 = srt_1.isupper()\n",
    "print(my_srt_1)"
   ]
  },
  {
   "cell_type": "markdown",
   "metadata": {},
   "source": [
    "__replace():- Returns a string where a specified value is replaced with a specified value__"
   ]
  },
  {
   "cell_type": "code",
   "execution_count": 48,
   "metadata": {},
   "outputs": [
    {
     "name": "stdout",
     "output_type": "stream",
     "text": [
      " Everything is Impossible\n"
     ]
    }
   ],
   "source": [
    "srt_2 = ' Nothing is Impossible'\n",
    "my_srt_2 = srt_2.replace(\"Nothing\",\"Everything\")\n",
    "print(my_srt_2)"
   ]
  },
  {
   "cell_type": "markdown",
   "metadata": {},
   "source": [
    "__join()__"
   ]
  },
  {
   "cell_type": "code",
   "execution_count": 49,
   "metadata": {},
   "outputs": [
    {
     "name": "stdout",
     "output_type": "stream",
     "text": [
      "ab=bc=cd\n"
     ]
    }
   ],
   "source": [
    "seq=('ab','bc','cd')\n",
    "str='='\n",
    "print (str.join(seq))"
   ]
  },
  {
   "cell_type": "markdown",
   "metadata": {},
   "source": [
    "__lstrip([chars]) – Returns a string after removing the characters from the beginning of the String.__"
   ]
  },
  {
   "cell_type": "code",
   "execution_count": 51,
   "metadata": {},
   "outputs": [
    {
     "name": "stdout",
     "output_type": "stream",
     "text": [
      "This is a good example \n",
      "This is a good example*****\n"
     ]
    }
   ],
   "source": [
    "var=' This is a good example '\n",
    "print (var.lstrip())\n",
    "\n",
    "var='*****This is a good example*****'\n",
    "print (var.lstrip('*'))\n"
   ]
  },
  {
   "cell_type": "markdown",
   "metadata": {},
   "source": [
    "__rstrip() – Returns a string after removing the characters from the End of the String.__"
   ]
  },
  {
   "cell_type": "code",
   "execution_count": 53,
   "metadata": {},
   "outputs": [
    {
     "name": "stdout",
     "output_type": "stream",
     "text": [
      " This is a good example\n",
      "*****This is a good example\n"
     ]
    }
   ],
   "source": [
    "var=' This is a good example '\n",
    "print (var.rstrip())\n",
    "\n",
    "var='*****This is a good example*****'\n",
    "print (var.rstrip('*'))"
   ]
  },
  {
   "cell_type": "markdown",
   "metadata": {},
   "source": [
    "__len(string) – Returns the length of given String__"
   ]
  },
  {
   "cell_type": "code",
   "execution_count": 54,
   "metadata": {},
   "outputs": [
    {
     "name": "stdout",
     "output_type": "stream",
     "text": [
      "32\n"
     ]
    }
   ],
   "source": [
    "var_1='Not facing problems'\n",
    "print (len(var))"
   ]
  },
  {
   "cell_type": "markdown",
   "metadata": {},
   "source": [
    "__Write a Python program to find the first 20 non-even prime natural numbers.__"
   ]
  },
  {
   "cell_type": "code",
   "execution_count": 36,
   "metadata": {},
   "outputs": [
    {
     "name": "stdout",
     "output_type": "stream",
     "text": [
      "2,3,5,7,11,13,17,19,"
     ]
    }
   ],
   "source": [
    "r = 20\n",
    "for a in range(2,r+1):\n",
    "    k=0\n",
    "    for i in range(2,a//2+1):\n",
    "        if(a%i==0):\n",
    "            k=k+1\n",
    "    if(k<=0):\n",
    "        print(a, end =',')"
   ]
  },
  {
   "cell_type": "code",
   "execution_count": null,
   "metadata": {},
   "outputs": [],
   "source": []
  },
  {
   "cell_type": "code",
   "execution_count": null,
   "metadata": {},
   "outputs": [],
   "source": []
  }
 ],
 "metadata": {
  "kernelspec": {
   "display_name": "Python 3",
   "language": "python",
   "name": "python3"
  },
  "language_info": {
   "codemirror_mode": {
    "name": "ipython",
    "version": 3
   },
   "file_extension": ".py",
   "mimetype": "text/x-python",
   "name": "python",
   "nbconvert_exporter": "python",
   "pygments_lexer": "ipython3",
   "version": "3.7.4"
  }
 },
 "nbformat": 4,
 "nbformat_minor": 2
}
